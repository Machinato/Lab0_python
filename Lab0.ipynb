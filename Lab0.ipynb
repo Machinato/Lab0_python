{
 "cells": [
  {
   "cell_type": "code",
   "execution_count": 14,
   "metadata": {},
   "outputs": [
    {
     "name": "stdout",
     "output_type": "stream",
     "text": [
      "8\n"
     ]
    }
   ],
   "source": [
    "N = ord(\"M\") % 10 + 1\n",
    "print(N)"
   ]
  },
  {
   "cell_type": "markdown",
   "metadata": {},
   "source": [
    "# Грузія\n",
    "\n",
    "Грузія займає територію **69 700 км²** (26 911 квадратних миль).  \n",
    "Її населення складає майже *4 млн осіб*.  \n",
    "Грузія є унітарною, напівпрезидентською республікою, з урядом, обраним за принципом представницької демократії."
   ]
  },
  {
   "cell_type": "markdown",
   "metadata": {},
   "source": [
    "### Видатні персоналії:\n",
    "\n",
    "*Важа Пшавела* (грузин. ვაჟა-ფშაველა Справжнє ім'я Лука Павлович Радзікашвілі (грузин. ლუკა რაზიკაშვილი) *26 липня 1861* — *10 липня 1915*) — грузинський письменник.\n",
    "\n",
    "*Нода́р Володи́мирович Думба́дзе* (груз. ნოდარ დუმბაძე; *14 липня 1928* — *14 вересня 1984*) — грузинський письменник, громадський діяч.\n",
    "\n",
    "*Ніно́ Катама́дзе* (груз. ნინო ქათამაძე; нар. *21 серпня 1972*, Кобулеті, Грузинська РСР) — грузинська джазова співачка.\n",
    "\n",
    "*Лела Самніашвілі* (груз. ლელა სამნიაშვილი, народилась *17 березня 1977* року, місто Горі, Грузія) - грузинська письменниця."
   ]
  },
  {
   "cell_type": "markdown",
   "metadata": {},
   "source": [
    "### Пам’ятоки культури Грузії\n",
    "\n",
    "#### Статуя «Любов»\n",
    "![Статуя «Любов»](https://www.epochtimes.com.ua/upload/medialibrary/53d/53d4f26dd1c01e028918f9c06febe84e.jpg)\n",
    "<div style=\"border: 2px solid #ff0000; padding: 10px;\">\n",
    "    Сонячний Батумі може похвалитися не лише піщаними пляжами, але і цікавими пам'ятками. Одна з яких ― рухома скульптура «Любов». Дві семиметрові металеві скульптури постійно змінюють свої пози, кожні 8—10 хвилин їхня історія починається знову.\n",
    "</div>\n",
    "\n",
    "#### Місто Мцхета\n",
    "![Місто Мцхета](https://www.epochtimes.com.ua/upload/medialibrary/487/487df2aef65671ae296b02a95c4df1f1.JPG)\n",
    "<div style=\"border: 2px solid #ff0000; padding: 10px;\">\n",
    "Одна із найдавніших визначних пам'яток Грузії ― місто Мцхета.\n",
    "Неподалік від Тбілісі розташоване місто Мцхета. Тут, у стародавній столиці держави, на вершині «хрестової» гори стоїть оспіваний М. Ю. Лермонтовим середньовічний монастир Джварі. Тихе, старовинне містечко Мцхета ― вічний свідок злиття мутних вод Арагви і Кури ― втілення непорушності та колишньої величі могутньої держави.\n",
    "</div>\n",
    "\n",
    "#### Дідгорі\n",
    "![Дідгорі](https://encrypted-tbn3.gstatic.com/licensed-image?q=tbn:ANd9GcREJ_Iyqkyy9_7CoDQFdtmMIIUj3PpM6Al8XjrIaGOWRkOMpEpToRamBmrv0Kph_f0z4oywnSH_AitBPQRbm0GVnkbMpOy2SBRCYnHDAVI)\n",
    "<div style=\"border: 2px solid #ff0000; padding: 10px;\">\n",
    "Меморіальний комплекс Дідгорі (Вантаж. დიდგორის მემორიალი), присвячений одному з найважливіших і відомих битв в історії Грузії - битві при Дідгорі. Масштабний комплекс складається з безлічі елементів, але найцікавіші – це розкидані по всій території приблизно чотири десятки сталевих мечів. Монумент був збудований у 1976 році на честь цієї великої битви та використовується для різних урочистих виступів. у тому числі для проведення грузинського народного свята Дідгороба.\n",
    "</div>"
   ]
  },
  {
   "cell_type": "markdown",
   "metadata": {},
   "source": [
    "## Таблиця\n",
    "|Параметр      | Значення |\n",
    "|--------------|----------|\n",
    "|Площа         |69 700 км²|\n",
    "|Населення     |4 млн осіб|\n",
    "|Держ. устрій  |Напівпрезидентська республіка|"
   ]
  },
  {
   "cell_type": "markdown",
   "metadata": {},
   "source": [
    "## Вкладені списки\n",
    "\n",
    "- **Культурні пам'ятки:**\n",
    "  - Статуя «Любов»\n",
    "  - Місто Мцхета\n",
    "  - Меморіал Дідгорі\n",
    "\n",
    "## Гіперпосилання\n",
    "\n",
    "[Офіційний сайт Грузії](https://www.georgia.gov.ge)\n",
    "\n",
    "## Зображення\n",
    "\n",
    "![Пейзаж Грузії](https://ukr.media/static/ba/aimg/3/8/9/389964_1.jpg)"
   ]
  },
  {
   "cell_type": "markdown",
   "metadata": {},
   "source": [
    "<svg width=\"600\" height=\"400\" xmlns=\"http://www.w3.org/2000/svg\">\n",
    "\n",
    "  <rect width=\"100%\" height=\"100%\" fill=\"white\" />\n",
    "  \n",
    "  <rect x=\"0\" y=\"160\" width=\"600\" height=\"80\" fill=\"red\" />\n",
    "  <rect x=\"260\" y=\"0\" width=\"80\" height=\"400\" fill=\"red\" />\n",
    "  \n",
    "  <rect x=\"120\" y=\"40\" width=\"20\" height=\"80\" fill=\"red\" />\n",
    "  <rect x=\"90\" y=\"70\" width=\"80\" height=\"20\" fill=\"red\" />\n",
    "  \n",
    "  <rect x=\"120\" y=\"290\" width=\"20\" height=\"80\" fill=\"red\" />\n",
    "  <rect x=\"90\" y=\"320\" width=\"80\" height=\"20\" fill=\"red\" />\n",
    "  \n",
    "  <rect x=\"460\" y=\"40\" width=\"20\" height=\"80\" fill=\"red\" />\n",
    "  <rect x=\"430\" y=\"70\" width=\"80\" height=\"20\" fill=\"red\" />\n",
    "  \n",
    "  <rect x=\"460\" y=\"290\" width=\"20\" height=\"80\" fill=\"red\" />\n",
    "  <rect x=\"430\" y=\"320\" width=\"80\" height=\"20\" fill=\"red\" />\n",
    "</svg>\n"
   ]
  },
  {
   "cell_type": "code",
   "execution_count": 20,
   "metadata": {},
   "outputs": [
    {
     "name": "stdout",
     "output_type": "stream",
     "text": [
      "[76, 42, 16, 12, 11, 9, 9, 4, 3]\n"
     ]
    }
   ],
   "source": [
    "def task_8():\n",
    "    sequince = input(\"Введіть числа через пробіл: \").split()\n",
    "\n",
    "    try:\n",
    "        sequince = list(map(int, sequince))\n",
    "    except ValueError:\n",
    "        return \"Помилка: всі введені елементи повинні бути цілими числами.\"\n",
    "\n",
    "    def gnome_sort(sequince):\n",
    "        index = 1\n",
    "        i = 0\n",
    "        n = len(sequince)\n",
    "        while i < n - 1:\n",
    "            if sequince[i] >= sequince[i + 1]:\n",
    "                i, index = index, index + 1\n",
    "            else:\n",
    "                sequince[i], sequince[i + 1] = sequince[i + 1], sequince[i]\n",
    "                i -= 1\n",
    "                if i < 0:\n",
    "                    i = index\n",
    "                    index += 1\n",
    "        return sequince\n",
    "\n",
    "    sorted_elements = gnome_sort(sequince)\n",
    "    return sorted_elements\n",
    "\n",
    "print(task_8())\n"
   ]
  }
 ],
 "metadata": {
  "kernelspec": {
   "display_name": "Python 3",
   "language": "python",
   "name": "python3"
  },
  "language_info": {
   "codemirror_mode": {
    "name": "ipython",
    "version": 3
   },
   "file_extension": ".py",
   "mimetype": "text/x-python",
   "name": "python",
   "nbconvert_exporter": "python",
   "pygments_lexer": "ipython3",
   "version": "3.12.3"
  }
 },
 "nbformat": 4,
 "nbformat_minor": 2
}
